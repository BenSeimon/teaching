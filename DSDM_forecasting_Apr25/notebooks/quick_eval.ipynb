{
 "cells": [
  {
   "cell_type": "code",
   "execution_count": null,
   "metadata": {},
   "outputs": [],
   "source": [
    "import pandas as pd"
   ]
  },
  {
   "cell_type": "code",
   "execution_count": null,
   "metadata": {},
   "outputs": [],
   "source": [
    "output_path = \"/Users/benseimon/GitHub/teaching/DSDM_forecasting_Apr25/output\""
   ]
  },
  {
   "cell_type": "code",
   "execution_count": null,
   "metadata": {},
   "outputs": [],
   "source": [
    "inc_preds = pd.read_csv(f\"{output_path}/incidence_predictions.csv\")\n",
    "ons_preds = pd.read_csv(f\"{output_path}/onset_predictions.csv\")"
   ]
  },
  {
   "cell_type": "code",
   "execution_count": null,
   "metadata": {},
   "outputs": [],
   "source": [
    "from sklearn.metrics import precision_recall_curve, auc\n",
    "import pandas as pd\n",
    "import matplotlib.pyplot as plt\n",
    "from typing import Tuple\n",
    "\n",
    "class Eval():\n",
    "\n",
    "    \"\"\"\n",
    "    Quick evaluation class to calculate PR AUC score for a given threshold.\n",
    "    \"\"\"\n",
    "\n",
    "    def __init__(\n",
    "        self, \n",
    "        df:pd.DataFrame, \n",
    "        target_col:str, \n",
    "        preds_col:str, \n",
    "        since_col:str,\n",
    "        figsize:str = (8, 8),\n",
    "        dpi: int = 400,\n",
    "        label_fontsize = 24,\n",
    "        legend_fontsize = 16,\n",
    "        tick_fontsize = 16,\n",
    "        linewidth = 3\n",
    "        ):\n",
    "\n",
    "        self.df = df\n",
    "        self.target_col = target_col\n",
    "        self.preds_col = preds_col\n",
    "        self.since_col = since_col\n",
    "\n",
    "        #plotting\n",
    "        self.figsize = figsize\n",
    "        self.dpi = dpi\n",
    "        self.label_fontsize = label_fontsize\n",
    "        self.legend_fontsize = legend_fontsize\n",
    "        self.tick_fontsize = tick_fontsize\n",
    "        self.linewidth = linewidth\n",
    "\n",
    "    def _default_fig(self) -> Tuple[plt.Figure, plt.Axes]:\n",
    "\n",
    "        \"\"\"\n",
    "        Function to set up the default figure and axes for plotting\n",
    "\n",
    "        Args\n",
    "        ----------\n",
    "        figsize : Tuple[int, int]\n",
    "            Figure size\n",
    "        dpi : int\n",
    "            Dots per inch\n",
    "\n",
    "        Returns\n",
    "        -------\n",
    "        Tuple[plt.Figure, plt.Axes]\n",
    "            Figure and axes objects\n",
    "        \"\"\"\n",
    "\n",
    "        return plt.subplots(figsize = self.figsize, dpi = self.dpi)\n",
    "\n",
    "    def pr_auc(self, onset_threshold:int):\n",
    "\n",
    "        \"\"\"\n",
    "        Function to calculate the PR AUC score conditional on onset_threshold.\n",
    "\n",
    "        Args\n",
    "        ----------\n",
    "        onset_threshold : int\n",
    "            Threshold to define an onset\n",
    "\n",
    "        Returns\n",
    "        -------\n",
    "        float\n",
    "            PR AUC score\n",
    "        recall : np.array (optional)\n",
    "            Recall\n",
    "        precision : np.array (optional)\n",
    "            Precision\n",
    "        \"\"\"\n",
    "\n",
    "        cond1 = (self.df[self.target_col].notna())\n",
    "        cond2 = (self.df[self.since_col] >= onset_threshold)\n",
    "        df = self.df[cond1 & cond2]\n",
    "        precision, recall, _ = precision_recall_curve(df[self.target_col], df[self.preds_col])\n",
    "        \n",
    "        return auc(recall, precision), recall, precision\n",
    "\n",
    "    def pr_auc_plot(self, onset_thresholds:list):\n",
    "\n",
    "        \"\"\"\n",
    "        Function to plot the PR AUC score for a list of onset thresholds.\n",
    "\n",
    "        Args\n",
    "        ----------\n",
    "        onset_thresholds : list\n",
    "            List of onset thresholds\n",
    "\n",
    "        Returns\n",
    "        -------\n",
    "        plt.Figure\n",
    "            Plot of the PR curves\n",
    "        \"\"\"\n",
    "\n",
    "        fig, ax = self._default_fig()\n",
    "\n",
    "        for threshold in onset_thresholds:\n",
    "\n",
    "            score, x, y = self.pr_auc(threshold)\n",
    "\n",
    "            ax.plot(x, y, label = f'{threshold}: {round(score, 2)}', linewidth = self.linewidth)\n",
    "\n",
    "        ax.set_xlim([-0.05, 1.05])\n",
    "        ax.set_ylim([-0.05, 1.05])\n",
    "        ax.legend(fontsize = self.legend_fontsize)\n",
    "        ax.tick_params(axis = 'both', which = 'major', labelsize = self.tick_fontsize)\n",
    "\n",
    "        return fig, ax\n"
   ]
  },
  {
   "cell_type": "code",
   "execution_count": null,
   "metadata": {},
   "outputs": [],
   "source": [
    "ons_preds.columns"
   ]
  },
  {
   "cell_type": "code",
   "execution_count": null,
   "metadata": {},
   "outputs": [],
   "source": [
    "inc_eval = Eval(\n",
    "    df = inc_preds,\n",
    "    target_col = \"inc_anyviolence_th0_h3\",\n",
    "    preds_col = \"inc_preds\",\n",
    "    since_col = \"violence_since_0\",\n",
    ")\n",
    "\n",
    "ons_eval = Eval(\n",
    "    df = ons_preds,\n",
    "    target_col = \"ons_anyviolence_th0_h3\",\n",
    "    preds_col = \"ons_preds\",\n",
    "    since_col = \"violence_since_0\",\n",
    ")"
   ]
  },
  {
   "cell_type": "code",
   "execution_count": null,
   "metadata": {},
   "outputs": [],
   "source": [
    "inc_eval.pr_auc_plot(onset_thresholds = [0,1,60])"
   ]
  },
  {
   "cell_type": "code",
   "execution_count": null,
   "metadata": {},
   "outputs": [],
   "source": [
    "ons_eval.pr_auc_plot(onset_thresholds = [1,60])"
   ]
  }
 ],
 "metadata": {
  "kernelspec": {
   "display_name": "teaching",
   "language": "python",
   "name": "python3"
  },
  "language_info": {
   "codemirror_mode": {
    "name": "ipython",
    "version": 3
   },
   "file_extension": ".py",
   "mimetype": "text/x-python",
   "name": "python",
   "nbconvert_exporter": "python",
   "pygments_lexer": "ipython3",
   "version": "3.12.4"
  }
 },
 "nbformat": 4,
 "nbformat_minor": 2
}
